{
  "cells": [
    {
      "cell_type": "markdown",
      "metadata": {},
      "source": [
        "# Wednesday, September 13\n",
        "## Before Class:\n",
        "Find the other students in the class that have the same number as you.  Sit together so you can work on today's activity as a group.  Introduce yourselves: name, major, etc.\n",
        "\n",
        "## Announcements and Reminders\n",
        "- Quiz on conditionals (chapter 5): Monday\n",
        "- Chapter 5 Exercises: Due Monday\n",
        "- Read Chapter 6: Due Monday\n",
        "- Programming Assignment 2: Due ~~Monday~~ next Wednesday.  Do you have a group yet?\n",
        "\n",
        "### Questions:"
      ]
    },
    {
      "cell_type": "markdown",
      "metadata": {},
      "source": [
        "### Wrap up from Monday\n",
        "Open up Monday's notebook and let's look at the last few tasks."
      ]
    },
    {
      "cell_type": "markdown",
      "metadata": {
        "id": "rPcP5eWXAO1Y"
      },
      "source": [
        "\n",
        "## Activity: Guess who! (If you want, or Else!)\n",
        "\n",
        "\n",
        "Our goal today is to write a computer program to play Guess Who with us.  Specifically, our challenge is to write a program that will correctly guess which of 26 animals we are thinking of, by asking at as few questions as possible.\n",
        "\n",
        "To start us off, run the cell below to see how the game will start."
      ]
    },
    {
      "cell_type": "code",
      "execution_count": 2,
      "metadata": {},
      "outputs": [
        {
          "name": "stdout",
          "output_type": "stream",
          "text": [
            "Hello player.  I am going to read your mind.  I want you to think of any animal.  Any animal at all.  As long as they are in the following list:\n",
            "\n",
            "1. Artie Aardvark,\n",
            "2. Bobby Bobcat, \n",
            "3. Coby Cobra, \n",
            "4. Dobby Dolphin, \n",
            "5. Eddie Eagle, \n",
            "6. Finnegan Finch, \n",
            "7. Geoffrey Giraffe,\n",
            "8. Humphry Hummingbird,\n",
            "9. Iggy Iguana,\n",
            "10. Javier Jaguar,\n",
            "11. Kenny Kangaroo,\n",
            "12. Larry Lion,\n",
            "13. Moses Monkey,\n",
            "14. Nicky Newt,\n",
            "15. Ollie Owl,\n",
            "16. Peter Python,\n",
            "17. Quincy Quail,\n",
            "18. Reggie Rattlesnake,\n",
            "19. Terry Tiger,\n",
            "20. Sherman Shark,\n",
            "21. Ulysses Narwal,\n",
            "22. Voltaire Vulture,\n",
            "23. Wally Walrus,\n",
            "24. Xavier X-ray fish,\n",
            "25. Yolanda Yak,\n",
            "26. and Zachary Zebra.\n"
          ]
        }
      ],
      "source": [
        "def display_choices():\n",
        "  print(\"Hello player.  I am going to read your mind.  I want you to think of any animal.  Any animal at all.  As long as they are in the following list:\")\n",
        "  print()\n",
        "  print(\"1. Artie Aardvark,\\n2. Bobby Bobcat, \\n3. Coby Cobra, \\n4. Dobby Dolphin, \\n5. Eddie Eagle, \\n6. Finnegan Finch, \\n7. Geoffrey Giraffe,\\n8. Humphry Hummingbird,\\n9. Iggy Iguana,\\n10. Javier Jaguar,\\n11. Kenny Kangaroo,\\n12. Larry Lion,\\n13. Moses Monkey,\\n14. Nicky Newt,\\n15. Ollie Owl,\\n16. Peter Python,\\n17. Quincy Quail,\\n18. Reggie Rattlesnake,\\n19. Terry Tiger,\\n20. Sherman Shark,\\n21. Ulysses Narwal,\\n22. Voltaire Vulture,\\n23. Wally Walrus,\\n24. Xavier X-ray fish,\\n25. Yolanda Yak,\\n26. and Zachary Zebra.\")\n",
        "\n",
        "display_choices()"
      ]
    },
    {
      "cell_type": "markdown",
      "metadata": {},
      "source": [
        "Let's start out simple.  Write a python function below that asks **two** questions.  Based on the answers given by the user, your program should correctly identify which of the first four animals the player was thinking of."
      ]
    },
    {
      "cell_type": "markdown",
      "metadata": {},
      "source": [
        "1.) How many legs does your animal have?\n",
        "    1.a) Does your animal have legs?"
      ]
    },
    {
      "cell_type": "code",
      "execution_count": 10,
      "metadata": {},
      "outputs": [
        {
          "name": "stdout",
          "output_type": "stream",
          "text": [
            "Hello player.  I am going to read your mind.  I want you to think of any animal.  Any animal at all.  As long as they are in the following list:\n",
            "\n",
            "1. Artie Aardvark,\n",
            "2. Bobby Bobcat, \n",
            "3. Coby Cobra, \n",
            "4. Dobby Dolphin, \n",
            "5. Eddie Eagle, \n",
            "6. Finnegan Finch, \n",
            "7. Geoffrey Giraffe,\n",
            "8. Humphry Hummingbird,\n",
            "9. Iggy Iguana,\n",
            "10. Javier Jaguar,\n",
            "11. Kenny Kangaroo,\n",
            "12. Larry Lion,\n",
            "13. Moses Monkey,\n",
            "14. Nicky Newt,\n",
            "15. Ollie Owl,\n",
            "16. Peter Python,\n",
            "17. Quincy Quail,\n",
            "18. Reggie Rattlesnake,\n",
            "19. Terry Tiger,\n",
            "20. Sherman Shark,\n",
            "21. Ulysses Narwal,\n",
            "22. Voltaire Vulture,\n",
            "23. Wally Walrus,\n",
            "24. Xavier X-ray fish,\n",
            "25. Yolanda Yak,\n",
            "26. and Zachary Zebra.\n",
            "You said yes.\n",
            "You are thinking of an Aardvark\n",
            "TADA!\n"
          ]
        }
      ],
      "source": [
        "def guessing():\n",
        "    leg_answer = input(\"Does your animal have legs?\")\n",
        "    if leg_answer == \"yes\":\n",
        "        print(\"You said yes.\")\n",
        "        ant_answer = input(\"Does your animal eat ants?\")\n",
        "        if ant_answer == \"yes\":\n",
        "            print(\"You are thinking of an Aardvark\")\n",
        "        else:\n",
        "            print(\"You are thinking of a Bobcat\")     \n",
        "    else:\n",
        "        scales_answer = input(\"Does your animal have scales?\")\n",
        "        if scales_answer == \"yes\":\n",
        "            print(\"You are thinking of a Cobra\")\n",
        "        else:\n",
        "            print(\"You are thinking of a Dolphin\")\n",
        "\n",
        "\n",
        "display_choices()\n",
        "# input(\"Ready? (Press Enter)\")\n",
        "guessing()\n",
        "print(\"TADA!\")"
      ]
    },
    {
      "cell_type": "markdown",
      "metadata": {},
      "source": [
        "Now work with your group to expand your questions so you can distinguish between all the animals. \n",
        "\n",
        "Hint: you don't have to ask just yes/no questions.   "
      ]
    },
    {
      "cell_type": "code",
      "execution_count": null,
      "metadata": {},
      "outputs": [],
      "source": []
    }
  ],
  "metadata": {
    "colab": {
      "include_colab_link": true,
      "provenance": []
    },
    "kernelspec": {
      "display_name": "Python 3",
      "name": "python3"
    },
    "language_info": {
      "codemirror_mode": {
        "name": "ipython",
        "version": 3
      },
      "file_extension": ".py",
      "mimetype": "text/x-python",
      "name": "python",
      "nbconvert_exporter": "python",
      "pygments_lexer": "ipython3",
      "version": "3.0.0"
    }
  },
  "nbformat": 4,
  "nbformat_minor": 0
}
