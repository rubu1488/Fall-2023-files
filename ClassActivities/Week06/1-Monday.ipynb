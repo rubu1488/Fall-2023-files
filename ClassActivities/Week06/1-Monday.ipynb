{
  "cells": [
    {
      "cell_type": "markdown",
      "metadata": {},
      "source": [
        "# Monday, September 25\n",
        "\n",
        "## Announcements and Reminders\n",
        "- Chapter 6 and 7 exercises due today\n",
        "- Programming Assignment 3: Wednesday\n",
        "- Exam 1: Monday, October 2\n",
        "\n",
        "### Questions:"
      ]
    },
    {
      "cell_type": "markdown",
      "metadata": {},
      "source": [
        "## Activity: Loops and conditionals, all mixed up\n",
        "\n",
        "Last time we saw that you can put loops inside of loops.  You can also put conditionals inside of loops.  Let's investigate!\n",
        "\n",
        "### Actually Counting Dominoes\n",
        "\n",
        "Recall we asked: How many different dominoes can there be?  A domino contains two sides, and each side has a number between 0 and 6 on it.  The domino (3,5) is the same as the domino (5,3).  So how many dominoes are there?  \n",
        "\n",
        "Let's write a function that computes this.  While we are at it, why don't we let the function answer more questions: instead of going up to 6, let's go up to any number we want.  Maybe we even ask the function to print out the dominoes for us.\n",
        "\n",
        "Below is the function we came up with in class last time:"
      ]
    },
    {
      "cell_type": "code",
      "execution_count": 16,
      "metadata": {},
      "outputs": [
        {
          "name": "stdout",
          "output_type": "stream",
          "text": [
            "501501\n"
          ]
        }
      ],
      "source": [
        "def dominoCounter(n):\n",
        "  count = 0\n",
        "  for x in range(n+1):\n",
        "    for y in range(n+1):\n",
        "      if x <= y: # this stops things like (2,5) and (5,2) from happening but so so can range(x, n+1)\n",
        "        # print(f\"({x},{y})\")\n",
        "        count = count+1\n",
        "  return count\n",
        "\n",
        "print(dominoCounter(1000))"
      ]
    },
    {
      "cell_type": "markdown",
      "metadata": {},
      "source": [
        "The problem is, we are counting some dominoes twice: (2,5) is the same domino as (5,2).  So what can we do to fix this?  Try to modify the code above."
      ]
    },
    {
      "cell_type": "markdown",
      "metadata": {},
      "source": [
        "### Another domino question\n",
        "\n",
        "Suppose we wanted to create an cell a game that contained over 1000 dominoes!  What number would be need to go up to on each domino?  It's not 6, since that only gives us 28 dominos.  Is it 7?  8?  Of course, we can use the function we wrote above to keep trying, but let's put python to work for us.  \n",
        "\n",
        "What sort of loop should we use?"
      ]
    },
    {
      "cell_type": "code",
      "execution_count": 22,
      "metadata": {},
      "outputs": [
        {
          "name": "stdout",
          "output_type": "stream",
          "text": [
            "1413\n"
          ]
        }
      ],
      "source": [
        "def dotsForDominoes(n):\n",
        "    # for k in range(100):\n",
        "    #     if dominoCounter(k) > n:\n",
        "    #         return k\n",
        "    ### This doesn't really work, it's not that great and the range is hard coded in\n",
        "  k = 1\n",
        "  while dominoCounter(k) < n: # while the thing you haven't been looking for hasn't happened\n",
        "    k += 1 # keep looking.\n",
        "  return k\n",
        "        \n",
        "print(dotsForDominoes(1000000))"
      ]
    },
    {
      "cell_type": "markdown",
      "metadata": {},
      "source": [
        "### Identifying Primes\n",
        "\n",
        "A number is **prime** provided it is a positive integer greater than 1 with exactly two divisors (i.e. factors): 1 and itself.  Integers greater than 1 which are not prime are called **composite**.  Your third programming assignment asks you to write some functions working with prime numbers.  For this, we need to decide whether a given number is prime to start with.\n",
        "\n",
        "Let's start by considering an example: is 2479 prime?  What would *you* do to answer this, if you didn't have anything besides a basic calculator?  Start by using python just as a basic calculator to answer this question."
      ]
    },
    {
      "cell_type": "code",
      "execution_count": 26,
      "metadata": {},
      "outputs": [
        {
          "name": "stdout",
          "output_type": "stream",
          "text": [
            "False\n"
          ]
        }
      ],
      "source": [
        "print(2479 % 2 == 0)"
      ]
    },
    {
      "cell_type": "code",
      "execution_count": 30,
      "metadata": {},
      "outputs": [
        {
          "name": "stdout",
          "output_type": "stream",
          "text": [
            "37\n",
            "False\n"
          ]
        }
      ],
      "source": [
        "def is_prime(n):\n",
        "    if n == 1:\n",
        "        return False\n",
        "    if n == 2:\n",
        "        return True\n",
        "    for divisor in range(2, n):\n",
        "        if n % divisor == 0:\n",
        "            print(divisor)\n",
        "            return False\n",
        "    return True\n",
        "\n",
        "print(is_prime(2479))\n"
      ]
    },
    {
      "cell_type": "markdown",
      "metadata": {},
      "source": [
        "Now let's try to write a function that tells us whether a number is a multiple of 2, 3, or 5.  "
      ]
    },
    {
      "cell_type": "code",
      "execution_count": null,
      "metadata": {},
      "outputs": [],
      "source": [
        "def is235mult(n):\n",
        "  pass"
      ]
    },
    {
      "cell_type": "markdown",
      "metadata": {},
      "source": [
        "‎ "
      ]
    },
    {
      "cell_type": "markdown",
      "metadata": {},
      "source": [
        "#### This is the answer to the recent quiz\n",
        "\n",
        "Please look this over because this is going to be on the final exam because EUGHGSDLFJAHLKjK AHHHHHHHHHHHHHHHHH"
      ]
    },
    {
      "cell_type": "code",
      "execution_count": 11,
      "metadata": {},
      "outputs": [
        {
          "name": "stdout",
          "output_type": "stream",
          "text": [
            "60\n",
            "60\n"
          ]
        }
      ],
      "source": [
        "counter = 0\n",
        "for n in range(10,100):\n",
        "    if n % 2 == 0 or n % 3 == 0:\n",
        "        counter = counter + 1\n",
        "print(counter)\n",
        "\n",
        "total = 0\n",
        "n = 10\n",
        "while n <= 99: # or n < 100\n",
        "    if n % 2 == 0 or n % 3 == 0:\n",
        "        total = total + 1\n",
        "    n = n+1\n",
        "print(total)"
      ]
    }
  ],
  "metadata": {
    "colab": {
      "include_colab_link": true,
      "provenance": []
    },
    "kernelspec": {
      "display_name": "Python 3",
      "name": "python3"
    },
    "language_info": {
      "codemirror_mode": {
        "name": "ipython",
        "version": 3
      },
      "file_extension": ".py",
      "mimetype": "text/x-python",
      "name": "python",
      "nbconvert_exporter": "python",
      "pygments_lexer": "ipython3",
      "version": "3.10.8"
    }
  },
  "nbformat": 4,
  "nbformat_minor": 0
}
