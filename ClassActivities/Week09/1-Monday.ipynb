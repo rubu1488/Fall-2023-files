{
  "cells": [
    {
      "cell_type": "markdown",
      "metadata": {},
      "source": [
        "# Monday, October 16\n",
        "\n",
        "## Announcements and Reminders\n",
        "- Read the rest of chapter 9 for Monday.\n",
        "- Task 1 for the Final Project is due Monday on Canvas.\n",
        "- Quiz on Wednesday on strings and lists.\n",
        "- Programming Assignment 4 due ~~Wednesday~~ Friday.\n",
        "- Chapter 8 and 9 exercises will be due Friday.\n"
      ]
    },
    {
      "cell_type": "markdown",
      "metadata": {},
      "source": [
        "## Activity: The more things change, the more they stay the same, unless they are lists\n",
        "\n",
        "Today we will consider how to modify iterable objects: strings, lists, and tuples. "
      ]
    },
    {
      "cell_type": "markdown",
      "metadata": {},
      "source": [
        "### Mutating strings and lists\n",
        "\n",
        "Try the following tasks:\n",
        "\n",
        "For the string and list below, write code that prints the 3rd element of the string/list."
      ]
    },
    {
      "cell_type": "code",
      "execution_count": 60,
      "metadata": {},
      "outputs": [],
      "source": [
        "s = \"Bazinga\"\n",
        "l = [\"Sheldon\", \"Leonard\", \"Penny\", \"Howard\", \"Raj\"]"
      ]
    },
    {
      "cell_type": "markdown",
      "metadata": {},
      "source": [
        "Now write code that *removes* the 3rd element in the string/list.  Print out the resulting, shorter, string/list."
      ]
    },
    {
      "cell_type": "code",
      "execution_count": 61,
      "metadata": {},
      "outputs": [
        {
          "name": "stdout",
          "output_type": "stream",
          "text": [
            "The name 'Penny' is the 3rd element\n",
            "['Sheldon', 'Leonard', 'Howard', 'Raj']\n"
          ]
        }
      ],
      "source": [
        "l = [\"Sheldon\", \"Leonard\", \"Penny\", \"Howard\", \"Raj\"]\n",
        "print(f\"The name '{l[2]}' is the 3rd element\")\n",
        "l.remove(l[2])\n",
        "print(l)\n"
      ]
    },
    {
      "cell_type": "markdown",
      "metadata": {},
      "source": [
        "Now add the character \"!\" to the end of the string, and the name \"Amy\" to the end of the list"
      ]
    },
    {
      "cell_type": "code",
      "execution_count": 62,
      "metadata": {},
      "outputs": [
        {
          "name": "stdout",
          "output_type": "stream",
          "text": [
            "Bazinga!\n",
            "['Sheldon', 'Leonard', 'Howard', 'Raj', 'Amy']\n"
          ]
        }
      ],
      "source": [
        "s = s + \"!\"\n",
        "new_lst = l + [\"Amy\"]\n",
        "print(s)\n",
        "print(new_lst)"
      ]
    },
    {
      "cell_type": "markdown",
      "metadata": {},
      "source": [
        "Wait! Maybe \"Bazinga\" should be spelled \"BaZinga\".  Replace the lower case \"z\" with a capital \"Z\".  \n",
        "\n",
        "For the list, add \"Bernadette\" right after \"Howard\".  And move \"Amy\" to be right after \"Sheldon\"."
      ]
    },
    {
      "cell_type": "code",
      "execution_count": 63,
      "metadata": {},
      "outputs": [
        {
          "name": "stdout",
          "output_type": "stream",
          "text": [
            "BaZinga!\n",
            "['Sheldon', 'Amy', 'Leonard', 'Howard', 'Bernadette', 'Raj']\n"
          ]
        }
      ],
      "source": [
        "s.replace(\"z\", \"Z\")\n",
        "s = s[:2] + \"Z\" + s[3:]\n",
        "print(s)\n",
        "\n",
        "l.insert(3, \"Bernadette\")\n",
        "# l[1] = \"Amy\"\n",
        "l = l[:1] + [\"Amy\"] + l[1:]\n",
        "print(l)"
      ]
    },
    {
      "cell_type": "markdown",
      "metadata": {},
      "source": [
        "### Tuples\n",
        "\n",
        "Think of tuples as immutable lists.  We write them with parentheses: `(3,5,1)` instead of `[3,5,1]` (which is a list).  \n",
        "\n",
        "In general, the length of a tuple should be fixed (where as lists can grow and shrink).  It also usually does not make sense to *sort* a tuple, since the position in a tuple is meaningful (for example, a tuple might represent the coordinates of a point $(x,y)$).\n",
        "\n",
        "Explore tuples by executing the code below."
      ]
    },
    {
      "cell_type": "code",
      "execution_count": 67,
      "metadata": {},
      "outputs": [
        {
          "name": "stdout",
          "output_type": "stream",
          "text": [
            "3\n"
          ]
        }
      ],
      "source": [
        "t = (3,5,1)\n",
        "print(t[0])"
      ]
    },
    {
      "cell_type": "code",
      "execution_count": 68,
      "metadata": {},
      "outputs": [
        {
          "name": "stdout",
          "output_type": "stream",
          "text": [
            "(3, 5, 1, 3, 5, 1)\n",
            "(3, 5, 1, 3, 5, 1, 7)\n"
          ]
        }
      ],
      "source": [
        "t = t+t\n",
        "print(t)\n",
        "t = t+(7,)\n",
        "print(t)\n",
        "# What happens if you run this code a second time?"
      ]
    },
    {
      "cell_type": "code",
      "execution_count": 72,
      "metadata": {},
      "outputs": [
        {
          "name": "stdout",
          "output_type": "stream",
          "text": [
            "2\n",
            "6\n",
            "0\n",
            "7\n"
          ]
        }
      ],
      "source": [
        "seq = (1,1,2,3,5,8,13,21,34,55,89)\n",
        "print(seq.count(1))\n",
        "print(seq.index(13))\n",
        "print(seq.count(20))\n",
        "print(seq.index(21))"
      ]
    },
    {
      "cell_type": "markdown",
      "metadata": {},
      "source": [
        "How can you find the index of an element in a tuple if you don't know whether the element is in the tuple to start with?  That is, can you do something like `list.find()` but for tuples?"
      ]
    }
  ],
  "metadata": {
    "colab": {
      "include_colab_link": true,
      "provenance": []
    },
    "kernelspec": {
      "display_name": "Python 3",
      "name": "python3"
    },
    "language_info": {
      "codemirror_mode": {
        "name": "ipython",
        "version": 3
      },
      "file_extension": ".py",
      "mimetype": "text/x-python",
      "name": "python",
      "nbconvert_exporter": "python",
      "pygments_lexer": "ipython3",
      "version": "3.10.8"
    }
  },
  "nbformat": 4,
  "nbformat_minor": 0
}
